{
 "cells": [
  {
   "cell_type": "code",
   "execution_count": 1,
   "metadata": {},
   "outputs": [],
   "source": [
    "import pandas as pd"
   ]
  },
  {
   "cell_type": "code",
   "execution_count": 2,
   "metadata": {},
   "outputs": [],
   "source": [
    "df = pd.read_parquet('https://storage.yandexcloud.net/data-ice-lake-04/messager-data/tmp/real-contacts/part-00000-e5b3608b-b518-4e10-837b-d373693cb620-c000.snappy.parquet')"
   ]
  },
  {
   "cell_type": "code",
   "execution_count": 3,
   "metadata": {},
   "outputs": [
    {
     "data": {
      "text/plain": [
       "(71096, 2)"
      ]
     },
     "execution_count": 3,
     "metadata": {},
     "output_type": "execute_result"
    }
   ],
   "source": [
    "df.shape"
   ]
  },
  {
   "cell_type": "code",
   "execution_count": 4,
   "metadata": {},
   "outputs": [
    {
     "data": {
      "text/html": [
       "<div>\n",
       "<style scoped>\n",
       "    .dataframe tbody tr th:only-of-type {\n",
       "        vertical-align: middle;\n",
       "    }\n",
       "\n",
       "    .dataframe tbody tr th {\n",
       "        vertical-align: top;\n",
       "    }\n",
       "\n",
       "    .dataframe thead th {\n",
       "        text-align: right;\n",
       "    }\n",
       "</style>\n",
       "<table border=\"1\" class=\"dataframe\">\n",
       "  <thead>\n",
       "    <tr style=\"text-align: right;\">\n",
       "      <th></th>\n",
       "      <th>user_id</th>\n",
       "      <th>contact_id</th>\n",
       "    </tr>\n",
       "  </thead>\n",
       "  <tbody>\n",
       "    <tr>\n",
       "      <th>0</th>\n",
       "      <td>22287</td>\n",
       "      <td>149488</td>\n",
       "    </tr>\n",
       "    <tr>\n",
       "      <th>1</th>\n",
       "      <td>81884</td>\n",
       "      <td>107993</td>\n",
       "    </tr>\n",
       "    <tr>\n",
       "      <th>2</th>\n",
       "      <td>106852</td>\n",
       "      <td>77160</td>\n",
       "    </tr>\n",
       "    <tr>\n",
       "      <th>3</th>\n",
       "      <td>149488</td>\n",
       "      <td>42751</td>\n",
       "    </tr>\n",
       "    <tr>\n",
       "      <th>4</th>\n",
       "      <td>149488</td>\n",
       "      <td>138441</td>\n",
       "    </tr>\n",
       "  </tbody>\n",
       "</table>\n",
       "</div>"
      ],
      "text/plain": [
       "   user_id  contact_id\n",
       "0    22287      149488\n",
       "1    81884      107993\n",
       "2   106852       77160\n",
       "3   149488       42751\n",
       "4   149488      138441"
      ]
     },
     "execution_count": 4,
     "metadata": {},
     "output_type": "execute_result"
    }
   ],
   "source": [
    "df.head()"
   ]
  },
  {
   "cell_type": "code",
   "execution_count": 10,
   "metadata": {},
   "outputs": [
    {
     "data": {
      "text/html": [
       "<div>\n",
       "<style scoped>\n",
       "    .dataframe tbody tr th:only-of-type {\n",
       "        vertical-align: middle;\n",
       "    }\n",
       "\n",
       "    .dataframe tbody tr th {\n",
       "        vertical-align: top;\n",
       "    }\n",
       "\n",
       "    .dataframe thead th {\n",
       "        text-align: right;\n",
       "    }\n",
       "</style>\n",
       "<table border=\"1\" class=\"dataframe\">\n",
       "  <thead>\n",
       "    <tr style=\"text-align: right;\">\n",
       "      <th></th>\n",
       "      <th>user_id</th>\n",
       "      <th>contact_id</th>\n",
       "    </tr>\n",
       "  </thead>\n",
       "  <tbody>\n",
       "    <tr>\n",
       "      <th>2</th>\n",
       "      <td>106852</td>\n",
       "      <td>77160</td>\n",
       "    </tr>\n",
       "    <tr>\n",
       "      <th>3962</th>\n",
       "      <td>106852</td>\n",
       "      <td>95941</td>\n",
       "    </tr>\n",
       "    <tr>\n",
       "      <th>6818</th>\n",
       "      <td>95941</td>\n",
       "      <td>106852</td>\n",
       "    </tr>\n",
       "    <tr>\n",
       "      <th>8895</th>\n",
       "      <td>150213</td>\n",
       "      <td>106852</td>\n",
       "    </tr>\n",
       "    <tr>\n",
       "      <th>16280</th>\n",
       "      <td>14165</td>\n",
       "      <td>106852</td>\n",
       "    </tr>\n",
       "    <tr>\n",
       "      <th>19058</th>\n",
       "      <td>106852</td>\n",
       "      <td>11224</td>\n",
       "    </tr>\n",
       "    <tr>\n",
       "      <th>20010</th>\n",
       "      <td>106852</td>\n",
       "      <td>10969</td>\n",
       "    </tr>\n",
       "    <tr>\n",
       "      <th>20554</th>\n",
       "      <td>149488</td>\n",
       "      <td>106852</td>\n",
       "    </tr>\n",
       "    <tr>\n",
       "      <th>23940</th>\n",
       "      <td>4447</td>\n",
       "      <td>106852</td>\n",
       "    </tr>\n",
       "    <tr>\n",
       "      <th>25148</th>\n",
       "      <td>106852</td>\n",
       "      <td>150213</td>\n",
       "    </tr>\n",
       "    <tr>\n",
       "      <th>27041</th>\n",
       "      <td>100593</td>\n",
       "      <td>106852</td>\n",
       "    </tr>\n",
       "    <tr>\n",
       "      <th>30583</th>\n",
       "      <td>104205</td>\n",
       "      <td>106852</td>\n",
       "    </tr>\n",
       "    <tr>\n",
       "      <th>30602</th>\n",
       "      <td>10969</td>\n",
       "      <td>106852</td>\n",
       "    </tr>\n",
       "    <tr>\n",
       "      <th>34217</th>\n",
       "      <td>106852</td>\n",
       "      <td>93503</td>\n",
       "    </tr>\n",
       "    <tr>\n",
       "      <th>35377</th>\n",
       "      <td>77160</td>\n",
       "      <td>106852</td>\n",
       "    </tr>\n",
       "    <tr>\n",
       "      <th>35870</th>\n",
       "      <td>106852</td>\n",
       "      <td>89869</td>\n",
       "    </tr>\n",
       "    <tr>\n",
       "      <th>37482</th>\n",
       "      <td>106852</td>\n",
       "      <td>149488</td>\n",
       "    </tr>\n",
       "    <tr>\n",
       "      <th>39929</th>\n",
       "      <td>106852</td>\n",
       "      <td>29910</td>\n",
       "    </tr>\n",
       "    <tr>\n",
       "      <th>40213</th>\n",
       "      <td>106852</td>\n",
       "      <td>4447</td>\n",
       "    </tr>\n",
       "    <tr>\n",
       "      <th>44451</th>\n",
       "      <td>106852</td>\n",
       "      <td>14165</td>\n",
       "    </tr>\n",
       "    <tr>\n",
       "      <th>45385</th>\n",
       "      <td>106852</td>\n",
       "      <td>112473</td>\n",
       "    </tr>\n",
       "    <tr>\n",
       "      <th>47913</th>\n",
       "      <td>106852</td>\n",
       "      <td>100593</td>\n",
       "    </tr>\n",
       "    <tr>\n",
       "      <th>48669</th>\n",
       "      <td>89869</td>\n",
       "      <td>106852</td>\n",
       "    </tr>\n",
       "    <tr>\n",
       "      <th>50419</th>\n",
       "      <td>106852</td>\n",
       "      <td>104205</td>\n",
       "    </tr>\n",
       "    <tr>\n",
       "      <th>52659</th>\n",
       "      <td>29910</td>\n",
       "      <td>106852</td>\n",
       "    </tr>\n",
       "    <tr>\n",
       "      <th>58088</th>\n",
       "      <td>11224</td>\n",
       "      <td>106852</td>\n",
       "    </tr>\n",
       "    <tr>\n",
       "      <th>62694</th>\n",
       "      <td>112473</td>\n",
       "      <td>106852</td>\n",
       "    </tr>\n",
       "    <tr>\n",
       "      <th>70382</th>\n",
       "      <td>93503</td>\n",
       "      <td>106852</td>\n",
       "    </tr>\n",
       "  </tbody>\n",
       "</table>\n",
       "</div>"
      ],
      "text/plain": [
       "       user_id  contact_id\n",
       "2       106852       77160\n",
       "3962    106852       95941\n",
       "6818     95941      106852\n",
       "8895    150213      106852\n",
       "16280    14165      106852\n",
       "19058   106852       11224\n",
       "20010   106852       10969\n",
       "20554   149488      106852\n",
       "23940     4447      106852\n",
       "25148   106852      150213\n",
       "27041   100593      106852\n",
       "30583   104205      106852\n",
       "30602    10969      106852\n",
       "34217   106852       93503\n",
       "35377    77160      106852\n",
       "35870   106852       89869\n",
       "37482   106852      149488\n",
       "39929   106852       29910\n",
       "40213   106852        4447\n",
       "44451   106852       14165\n",
       "45385   106852      112473\n",
       "47913   106852      100593\n",
       "48669    89869      106852\n",
       "50419   106852      104205\n",
       "52659    29910      106852\n",
       "58088    11224      106852\n",
       "62694   112473      106852\n",
       "70382    93503      106852"
      ]
     },
     "execution_count": 10,
     "metadata": {},
     "output_type": "execute_result"
    }
   ],
   "source": [
    "df[(df['user_id']==106852) | (df['contact_id']==106852)].head(100)"
   ]
  },
  {
   "cell_type": "code",
   "execution_count": 26,
   "metadata": {},
   "outputs": [],
   "source": [
    "llist = ['age', 'name','id']\n"
   ]
  },
  {
   "cell_type": "code",
   "execution_count": 27,
   "metadata": {},
   "outputs": [],
   "source": [
    "if not all(i in llist for i in ('age', 'name', 'id')):\n",
    "    raise Exception('⛔️')\n"
   ]
  },
  {
   "cell_type": "code",
   "execution_count": null,
   "metadata": {},
   "outputs": [],
   "source": [
    "coord_cols_prefix = ['event', 'city']\n",
    "\n",
    "\n",
    "if not all(col in sdf.columns for col in ('1st_point_lat', '1st_point_lon', 'id')):\n",
    "    raise Exception\n"
   ]
  },
  {
   "cell_type": "code",
   "execution_count": 30,
   "metadata": {},
   "outputs": [],
   "source": [
    "coord_cols_prefix = ['event', 'city']"
   ]
  },
  {
   "cell_type": "code",
   "execution_count": 78,
   "metadata": {},
   "outputs": [],
   "source": [
    "cols = [(i + '_lat', i+'_lon') for i in coord_cols_prefix]"
   ]
  },
  {
   "cell_type": "code",
   "execution_count": 85,
   "metadata": {},
   "outputs": [
    {
     "data": {
      "text/plain": [
       "(('event_lat', 'event_lon'), ('city_lat', 'city_lon'))"
      ]
     },
     "execution_count": 85,
     "metadata": {},
     "output_type": "execute_result"
    }
   ],
   "source": [
    "cols["
   ]
  },
  {
   "cell_type": "code",
   "execution_count": 76,
   "metadata": {},
   "outputs": [],
   "source": [
    "lat_1st, lon_1st = cols[0]\n",
    "lat_2nd, lon_2nd = cols[1]"
   ]
  },
  {
   "cell_type": "code",
   "execution_count": 77,
   "metadata": {},
   "outputs": [
    {
     "data": {
      "text/plain": [
       "'city_lon'"
      ]
     },
     "execution_count": 77,
     "metadata": {},
     "output_type": "execute_result"
    }
   ],
   "source": [
    "lon_2nd"
   ]
  },
  {
   "cell_type": "code",
   "execution_count": 71,
   "metadata": {},
   "outputs": [],
   "source": [
    "some_list = ['event_lat', 'event_lon', 'city_lat', 'city_lon']"
   ]
  },
  {
   "cell_type": "code",
   "execution_count": 83,
   "metadata": {},
   "outputs": [
    {
     "ename": "Exception",
     "evalue": "!",
     "output_type": "error",
     "traceback": [
      "\u001b[0;31m---------------------------------------------------------------------------\u001b[0m",
      "\u001b[0;31mException\u001b[0m                                 Traceback (most recent call last)",
      "Cell \u001b[0;32mIn[83], line 2\u001b[0m\n\u001b[1;32m      1\u001b[0m \u001b[39mif\u001b[39;00m \u001b[39mnot\u001b[39;00m \u001b[39mall\u001b[39m(col \u001b[39min\u001b[39;00m some_list \u001b[39mfor\u001b[39;00m col \u001b[39min\u001b[39;00m (cols[\u001b[39m0\u001b[39m], cols[\u001b[39m1\u001b[39m])):\n\u001b[0;32m----> 2\u001b[0m     \u001b[39mraise\u001b[39;00m \u001b[39mException\u001b[39;00m(\u001b[39m'\u001b[39m\u001b[39m!\u001b[39m\u001b[39m'\u001b[39m)\n",
      "\u001b[0;31mException\u001b[0m: !"
     ]
    }
   ],
   "source": [
    "if not all(col in some_list for col in (cols[0], cols[1])):\n",
    "    raise Exception('!')"
   ]
  },
  {
   "cell_type": "code",
   "execution_count": 60,
   "metadata": {},
   "outputs": [
    {
     "data": {
      "text/plain": [
       "'city_lat'"
      ]
     },
     "execution_count": 60,
     "metadata": {},
     "output_type": "execute_result"
    }
   ],
   "source": []
  },
  {
   "cell_type": "code",
   "execution_count": 55,
   "metadata": {},
   "outputs": [
    {
     "data": {
      "text/plain": [
       "'event_lat'"
      ]
     },
     "execution_count": 55,
     "metadata": {},
     "output_type": "execute_result"
    }
   ],
   "source": [
    "one"
   ]
  },
  {
   "cell_type": "code",
   "execution_count": 56,
   "metadata": {},
   "outputs": [
    {
     "data": {
      "text/plain": [
       "'event_lon'"
      ]
     },
     "execution_count": 56,
     "metadata": {},
     "output_type": "execute_result"
    }
   ],
   "source": [
    "two"
   ]
  },
  {
   "cell_type": "code",
   "execution_count": 45,
   "metadata": {},
   "outputs": [],
   "source": []
  }
 ],
 "metadata": {
  "kernelspec": {
   "display_name": ".venv",
   "language": "python",
   "name": "python3"
  },
  "language_info": {
   "codemirror_mode": {
    "name": "ipython",
    "version": 3
   },
   "file_extension": ".py",
   "mimetype": "text/x-python",
   "name": "python",
   "nbconvert_exporter": "python",
   "pygments_lexer": "ipython3",
   "version": "3.8.13"
  },
  "orig_nbformat": 4
 },
 "nbformat": 4,
 "nbformat_minor": 2
}
