{
 "cells": [
  {
   "cell_type": "code",
   "execution_count": 2,
   "metadata": {},
   "outputs": [],
   "source": [
    "import pandas as pd"
   ]
  },
  {
   "cell_type": "code",
   "execution_count": 3,
   "metadata": {},
   "outputs": [],
   "source": [
    "pd.options.display.max_columns = None\n",
    "pd.options.display.max_rows = None"
   ]
  },
  {
   "cell_type": "code",
   "execution_count": 4,
   "metadata": {},
   "outputs": [],
   "source": [
    "PATH = \"https://storage.yandexcloud.net/data-ice-lake-04/messager-data/analytics/cleaned-events/event_type%3Dreaction/date%3D2022-01-16/part-00066-c8b1c6b7-6df1-40a9-baa2-326562d1fc66.c000.gz.parquet\""
   ]
  },
  {
   "cell_type": "code",
   "execution_count": 5,
   "metadata": {},
   "outputs": [
    {
     "data": {
      "text/html": [
       "<div>\n",
       "<style scoped>\n",
       "    .dataframe tbody tr th:only-of-type {\n",
       "        vertical-align: middle;\n",
       "    }\n",
       "\n",
       "    .dataframe tbody tr th {\n",
       "        vertical-align: top;\n",
       "    }\n",
       "\n",
       "    .dataframe thead th {\n",
       "        text-align: right;\n",
       "    }\n",
       "</style>\n",
       "<table border=\"1\" class=\"dataframe\">\n",
       "  <thead>\n",
       "    <tr style=\"text-align: right;\">\n",
       "      <th></th>\n",
       "      <th>admins</th>\n",
       "      <th>channel_id</th>\n",
       "      <th>datetime</th>\n",
       "      <th>media_type</th>\n",
       "      <th>media_src</th>\n",
       "      <th>message</th>\n",
       "      <th>message_channel_to</th>\n",
       "      <th>message_from</th>\n",
       "      <th>message_group</th>\n",
       "      <th>message_id</th>\n",
       "      <th>message_to</th>\n",
       "      <th>message_ts</th>\n",
       "      <th>reaction_from</th>\n",
       "      <th>reaction_type</th>\n",
       "      <th>subscription_channel</th>\n",
       "      <th>subscription_user</th>\n",
       "      <th>tags</th>\n",
       "      <th>user</th>\n",
       "    </tr>\n",
       "  </thead>\n",
       "  <tbody>\n",
       "    <tr>\n",
       "      <th>0</th>\n",
       "      <td>None</td>\n",
       "      <td>NaN</td>\n",
       "      <td>2022-01-16 15:04:52</td>\n",
       "      <td>None</td>\n",
       "      <td>None</td>\n",
       "      <td>None</td>\n",
       "      <td>NaN</td>\n",
       "      <td>NaN</td>\n",
       "      <td>NaN</td>\n",
       "      <td>1115511</td>\n",
       "      <td>NaN</td>\n",
       "      <td>NaT</td>\n",
       "      <td>154022</td>\n",
       "      <td>dislike</td>\n",
       "      <td>NaN</td>\n",
       "      <td>None</td>\n",
       "      <td>None</td>\n",
       "      <td>None</td>\n",
       "    </tr>\n",
       "    <tr>\n",
       "      <th>1</th>\n",
       "      <td>None</td>\n",
       "      <td>NaN</td>\n",
       "      <td>2022-01-16 10:28:53</td>\n",
       "      <td>None</td>\n",
       "      <td>None</td>\n",
       "      <td>None</td>\n",
       "      <td>NaN</td>\n",
       "      <td>NaN</td>\n",
       "      <td>NaN</td>\n",
       "      <td>1101399</td>\n",
       "      <td>NaN</td>\n",
       "      <td>NaT</td>\n",
       "      <td>82319</td>\n",
       "      <td>like</td>\n",
       "      <td>NaN</td>\n",
       "      <td>None</td>\n",
       "      <td>None</td>\n",
       "      <td>None</td>\n",
       "    </tr>\n",
       "    <tr>\n",
       "      <th>2</th>\n",
       "      <td>None</td>\n",
       "      <td>NaN</td>\n",
       "      <td>2022-01-16 14:56:16</td>\n",
       "      <td>None</td>\n",
       "      <td>None</td>\n",
       "      <td>None</td>\n",
       "      <td>NaN</td>\n",
       "      <td>NaN</td>\n",
       "      <td>NaN</td>\n",
       "      <td>1101399</td>\n",
       "      <td>NaN</td>\n",
       "      <td>NaT</td>\n",
       "      <td>133394</td>\n",
       "      <td>like</td>\n",
       "      <td>NaN</td>\n",
       "      <td>None</td>\n",
       "      <td>None</td>\n",
       "      <td>None</td>\n",
       "    </tr>\n",
       "    <tr>\n",
       "      <th>3</th>\n",
       "      <td>None</td>\n",
       "      <td>NaN</td>\n",
       "      <td>2022-01-16 17:25:22</td>\n",
       "      <td>None</td>\n",
       "      <td>None</td>\n",
       "      <td>None</td>\n",
       "      <td>NaN</td>\n",
       "      <td>NaN</td>\n",
       "      <td>NaN</td>\n",
       "      <td>1101399</td>\n",
       "      <td>NaN</td>\n",
       "      <td>NaT</td>\n",
       "      <td>81644</td>\n",
       "      <td>dislike</td>\n",
       "      <td>NaN</td>\n",
       "      <td>None</td>\n",
       "      <td>None</td>\n",
       "      <td>None</td>\n",
       "    </tr>\n",
       "    <tr>\n",
       "      <th>4</th>\n",
       "      <td>None</td>\n",
       "      <td>NaN</td>\n",
       "      <td>2022-01-16 19:36:32</td>\n",
       "      <td>None</td>\n",
       "      <td>None</td>\n",
       "      <td>None</td>\n",
       "      <td>NaN</td>\n",
       "      <td>NaN</td>\n",
       "      <td>NaN</td>\n",
       "      <td>1093426</td>\n",
       "      <td>NaN</td>\n",
       "      <td>NaT</td>\n",
       "      <td>42021</td>\n",
       "      <td>like</td>\n",
       "      <td>NaN</td>\n",
       "      <td>None</td>\n",
       "      <td>None</td>\n",
       "      <td>None</td>\n",
       "    </tr>\n",
       "  </tbody>\n",
       "</table>\n",
       "</div>"
      ],
      "text/plain": [
       "  admins  channel_id            datetime media_type media_src message   \n",
       "0   None         NaN 2022-01-16 15:04:52       None      None    None  \\\n",
       "1   None         NaN 2022-01-16 10:28:53       None      None    None   \n",
       "2   None         NaN 2022-01-16 14:56:16       None      None    None   \n",
       "3   None         NaN 2022-01-16 17:25:22       None      None    None   \n",
       "4   None         NaN 2022-01-16 19:36:32       None      None    None   \n",
       "\n",
       "   message_channel_to  message_from  message_group  message_id  message_to   \n",
       "0                 NaN           NaN            NaN     1115511         NaN  \\\n",
       "1                 NaN           NaN            NaN     1101399         NaN   \n",
       "2                 NaN           NaN            NaN     1101399         NaN   \n",
       "3                 NaN           NaN            NaN     1101399         NaN   \n",
       "4                 NaN           NaN            NaN     1093426         NaN   \n",
       "\n",
       "  message_ts reaction_from reaction_type  subscription_channel   \n",
       "0        NaT        154022       dislike                   NaN  \\\n",
       "1        NaT         82319          like                   NaN   \n",
       "2        NaT        133394          like                   NaN   \n",
       "3        NaT         81644       dislike                   NaN   \n",
       "4        NaT         42021          like                   NaN   \n",
       "\n",
       "  subscription_user  tags  user  \n",
       "0              None  None  None  \n",
       "1              None  None  None  \n",
       "2              None  None  None  \n",
       "3              None  None  None  \n",
       "4              None  None  None  "
      ]
     },
     "execution_count": 5,
     "metadata": {},
     "output_type": "execute_result"
    }
   ],
   "source": [
    "df = pd.read_parquet(PATH)\n",
    "df.head()"
   ]
  },
  {
   "cell_type": "code",
   "execution_count": 6,
   "metadata": {},
   "outputs": [
    {
     "data": {
      "text/plain": [
       "array(['dislike', 'like'], dtype=object)"
      ]
     },
     "execution_count": 6,
     "metadata": {},
     "output_type": "execute_result"
    }
   ],
   "source": [
    "df.reaction_type.unique()"
   ]
  },
  {
   "cell_type": "code",
   "execution_count": 10,
   "metadata": {},
   "outputs": [
    {
     "data": {
      "text/plain": [
       "admins                     0\n",
       "channel_id                 0\n",
       "datetime                1615\n",
       "media_type                 0\n",
       "media_src                  0\n",
       "message                    0\n",
       "message_channel_to         0\n",
       "message_from               0\n",
       "message_group              0\n",
       "message_id              1615\n",
       "message_to                 0\n",
       "message_ts                 0\n",
       "reaction_from           1615\n",
       "reaction_type           1615\n",
       "subscription_channel       0\n",
       "subscription_user          0\n",
       "tags                       0\n",
       "user                       0\n",
       "dtype: int64"
      ]
     },
     "execution_count": 10,
     "metadata": {},
     "output_type": "execute_result"
    }
   ],
   "source": [
    "df.notna().sum()"
   ]
  },
  {
   "cell_type": "code",
   "execution_count": 9,
   "metadata": {},
   "outputs": [
    {
     "data": {
      "text/plain": [
       "(0, 18)"
      ]
     },
     "execution_count": 9,
     "metadata": {},
     "output_type": "execute_result"
    }
   ],
   "source": [
    "df[df.tags.notna()].shape"
   ]
  },
  {
   "cell_type": "code",
   "execution_count": null,
   "metadata": {},
   "outputs": [],
   "source": []
  }
 ],
 "metadata": {
  "kernelspec": {
   "display_name": ".venv",
   "language": "python",
   "name": "python3"
  },
  "language_info": {
   "codemirror_mode": {
    "name": "ipython",
    "version": 3
   },
   "file_extension": ".py",
   "mimetype": "text/x-python",
   "name": "python",
   "nbconvert_exporter": "python",
   "pygments_lexer": "ipython3",
   "version": "3.8.13"
  },
  "orig_nbformat": 4
 },
 "nbformat": 4,
 "nbformat_minor": 2
}
